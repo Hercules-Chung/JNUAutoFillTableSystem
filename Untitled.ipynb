{
 "cells": [
  {
   "cell_type": "code",
   "execution_count": 1,
   "metadata": {},
   "outputs": [
    {
     "name": "stdout",
     "output_type": "stream",
     "text": [
      "https://ehall.jnu.edu.cn/infoplus/form/774502/render\n"
     ]
    }
   ],
   "source": [
    "from selenium.common.exceptions import NoSuchElementException     \n",
    "from selenium import webdriver\n",
    "import time\n",
    "def check_exists_by_xpath(xpath):\n",
    "    try:\n",
    "        webdriver.find_element_by_xpath(xpath)\n",
    "    except NoSuchElementException:\n",
    "        return False\n",
    "    return True\n",
    "\n",
    "postURLToLogin = \"https://ehall.jnu.edu.cn/infoplus/form/XNYQSB/start\"\n",
    "\n",
    "browser = webdriver.Chrome(\"F:\\迅雷下载\\chromedriver.exe\")\n",
    "\n",
    "browser.get(postURLToLogin)\n",
    "username = browser.find_element_by_id('un')\n",
    "password = browser.find_element_by_id('pd')\n",
    "user = \"2016051126\"\n",
    "pw = \"xcdl123..\"\n",
    "username.send_keys(user)\n",
    "password.send_keys(pw)\n",
    "loginBtn = browser.find_element_by_id('index_login_btn')\n",
    "loginBtn.click()\n",
    "time.sleep(5)\n",
    "browser.find_element_by_name('fieldJBXXjjlxr').send_keys('黄毅洋')\n",
    "browser.find_element_by_name('fieldJBXXnj').send_keys('应用物理学A班')\n",
    "browser.find_element_by_name('fieldJBXXjjlxrdh').send_keys('15918774755')\n",
    "browser.find_element_by_xpath(\"//td[@class='xdTableContentCell']/div/table/tbody/tr[3]/td[4]/div/div/div/div/input\").send_keys('张淑敏')\n",
    "while len(browser.find_element_by_xpath(\"//td[@class='xdTableContentCell']/div/table/tbody/tr[3]/td[4]/div/div/div/div/div\").text) == 0:\n",
    "    time.sleep(0.5)\n",
    "browser.find_element_by_xpath(\"//td[@class='xdTableContentCell']/div/table/tbody/tr[3]/td[4]/div/div/div/div/div\").find_elements_by_xpath(\"div\")[1].click()\n",
    "# browser.find_elements_by_name('fieldSTQKsfstbs')[0].cl\n",
    "browser.find_elements_by_name('fieldSTQKsfstbs')[0].click()\n",
    "browser.find_elements_by_name('fieldCXXXcxzt')[0].click()\n",
    "browser.find_element_by_xpath(\"//td[@class='xdTableContentCell']/div/table/tbody/tr[21]/td[2]/div/div/div/div/input\").send_keys('广东省')\n",
    "while len(browser.find_elements_by_xpath(\"//td[@class='xdTableContentCell']/div/table/tbody/tr[21]/td[2]/div/div/div/div/div/div\"))!=2:\n",
    "    #print(browser.find_elements_by_xpath(\"//td[@class='xdTableContentCell']/div/table/tbody/tr[21]/td[2]/div/div/div/div/div/div\")[0].text)\n",
    "    time.sleep(0.5)\n",
    "browser.find_element_by_xpath(\"//td[@class='xdTableContentCell']/div/table/tbody/tr[21]/td[2]/div/div/div/div/div/div\").click()\n",
    "browser.find_element_by_xpath(\"//td[@class='xdTableContentCell']/div/table/tbody/tr[21]/td[4]/div/div/div/div/input\").send_keys('汕头市')\n",
    "while len(browser.find_elements_by_xpath(\"//td[@class='xdTableContentCell']/div/table/tbody/tr[21]/td[4]/div/div/div/div/div/div\"))!=2:\n",
    "    #print(browser.find_elements_by_xpath(\"//td[@class='xdTableContentCell']/div/table/tbody/tr[21]/td[2]/div/div/div/div/div/div\")[0].text)\n",
    "    time.sleep(0.5)\n",
    "browser.find_element_by_xpath(\"//td[@class='xdTableContentCell']/div/table/tbody/tr[21]/td[4]/div/div/div/div/div/div\").click()\n",
    "browser.find_element_by_xpath(\"//td[@class='xdTableContentCell']/div/table/tbody/tr[21]/td[6]/div/div/div/div/input\").send_keys('金平区')\n",
    "while len(browser.find_elements_by_xpath(\"//td[@class='xdTableContentCell']/div/table/tbody/tr[21]/td[6]/div/div/div/div/div/div\"))!=2:\n",
    "    #print(browser.find_elements_by_xpath(\"//td[@class='xdTableContentCell']/div/table/tbody/tr[21]/td[2]/div/div/div/div/div/div\")[0].text)\n",
    "    time.sleep(0.5)\n",
    "browser.find_element_by_xpath(\"//td[@class='xdTableContentCell']/div/table/tbody/tr[21]/td[6]/div/div/div/div/div/div\").click()\n",
    "browser.find_element_by_xpath(\"//td[@class='xdTableContentCell']/div/table/tbody/tr[21]/td[8]/div/input\").send_keys('潮汕路')\n",
    "browser.find_elements_by_name('fieldYQJLjrsfczbl')[1].click()\n",
    "browser.find_elements_by_name('fieldYQJLsfjcqtbl')[1].click()\n",
    "browser.find_elements_by_name('fieldCXXXsftjhb')[1].click()\n",
    "browser.find_element_by_name('fieldCNS').click()\n",
    "browser.find_element_by_xpath('/html/body/div[4]/form/div/div/div[2]/ul/li[1]/a').click()\n",
    "time.sleep(1)\n",
    "browser.find_element_by_xpath('/html/body/div[7]/div/div[2]/button').click()\n",
    "time.sleep(1)\n",
    "browser.find_element_by_xpath('/html/body/div[7]/div/div[2]/button').click()\n",
    "time.sleep(5)\n",
    "print(browser.current_url)\n",
    "browser.close()\n"
   ]
  },
  {
   "cell_type": "code",
   "execution_count": 8,
   "metadata": {},
   "outputs": [
    {
     "name": "stdout",
     "output_type": "stream",
     "text": [
      "sleep\n",
      "sleep\n"
     ]
    }
   ],
   "source": [
    "from selenium.common.exceptions import NoSuchElementException     \n",
    "from selenium import webdriver\n",
    "import time\n",
    "def check_exists_by_xpath(xpath):\n",
    "    global browser\n",
    "    try:\n",
    "        browser.find_element_by_xpath(xpath)\n",
    "    except NoSuchElementException:\n",
    "        return False\n",
    "    return True\n",
    "def check_exists_by_name(name):\n",
    "    global browser\n",
    "    try:\n",
    "        browser.find_element_by_name(name)\n",
    "    except NoSuchElementException:\n",
    "        return False\n",
    "    return True\n",
    "postURLToLogin = \"https://ehall.jnu.edu.cn/infoplus/form/XNYQSB/start\"\n",
    "\n",
    "browser = webdriver.Chrome(\"F:\\迅雷下载\\chromedriver.exe\")\n",
    "\n",
    "browser.get(postURLToLogin)\n",
    "username = browser.find_element_by_id('un')\n",
    "password = browser.find_element_by_id('pd')\n",
    "user = \"2016051126\"\n",
    "pw = \"xcdl123..\"\n",
    "username.send_keys(user)\n",
    "password.send_keys(pw)\n",
    "loginBtn = browser.find_element_by_id('index_login_btn')\n",
    "loginBtn.click()\n",
    "while not check_exists_by_name('fieldJBXXjjlxr'):\n",
    "    time.sleep(0.5)\n",
    "    print(\"sleep\")\n",
    "time.sleep(0.5)\n",
    "browser.find_element_by_name('fieldJBXXjjlxr').send_keys('黄毅洋')\n",
    "browser.find_element_by_name('fieldJBXXnj').send_keys('应用物理学A班')\n",
    "browser.find_element_by_name('fieldJBXXjjlxrdh').send_keys('15918774755')\n",
    "browser.find_element_by_xpath(\"//td[@class='xdTableContentCell']/div/table/tbody/tr[3]/td[4]/div/div/div/div/input\").send_keys('张淑敏')\n",
    "\n"
   ]
  },
  {
   "cell_type": "code",
   "execution_count": null,
   "metadata": {},
   "outputs": [],
   "source": []
  }
 ],
 "metadata": {
  "kernelspec": {
   "display_name": "Python 3",
   "language": "python",
   "name": "python3"
  },
  "language_info": {
   "codemirror_mode": {
    "name": "ipython",
    "version": 3
   },
   "file_extension": ".py",
   "mimetype": "text/x-python",
   "name": "python",
   "nbconvert_exporter": "python",
   "pygments_lexer": "ipython3",
   "version": "3.7.4"
  }
 },
 "nbformat": 4,
 "nbformat_minor": 4
}
